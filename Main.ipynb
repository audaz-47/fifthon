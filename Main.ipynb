{
 "cells": [
  {
   "cell_type": "code",
   "execution_count": 23,
   "metadata": {},
   "outputs": [
    {
     "name": "stdout",
     "output_type": "stream",
     "text": [
      "03Apr2019 17:31:31 - [__main__] [DEBUG] - {'instagram': {'user': 'instafollowdev', 'password': 'password@123'}}\n"
     ]
    }
   ],
   "source": [
    "from selenium import webdriver\n",
    "from selenium.webdriver.common.action_chains import ActionChains\n",
    "from selenium.webdriver.common.by import By\n",
    "from selenium.webdriver.common.keys import Keys\n",
    "from selenium.webdriver.support import expected_conditions as EC\n",
    "from selenium.webdriver.support.ui import WebDriverWait\n",
    "from src.common.WebDriver import WebDriver\n",
    "from src.common.utils import *\n",
    "import json\n",
    "import time\n",
    "import re\n",
    "from src.instagram.Instagram import Instagram\n",
    "from src.instagram.UILogin import UILogin\n",
    "from src.instagram.ApiCrawler import ApiCrawler\n",
    "from src.instagram.UICrawler import UICrawler\n",
    "\n",
    "config = loadConfiguration('config/config.yaml')\n",
    "credentials = loadCredentials('config/credentials.yaml')\n",
    "logger = getLogger(__name__)\n",
    "logger.debug(credentials)"
   ]
  },
  {
   "cell_type": "code",
   "execution_count": null,
   "metadata": {},
   "outputs": [],
   "source": [
    "'''\n",
    "Logging in to instagram using API is very difficult and they regularly change certain request/response headers for login.\n",
    "API login would need for maintenance than UI version and their algorithm can more easily figure out it as bot.\n",
    "Scrapping using selenium is very slow and impossible for account with large number of followers/following.\n",
    "So, I found logging in using selenium UI automation and then scrapping data using API as best option.\n",
    "'''"
   ]
  },
  {
   "cell_type": "code",
   "execution_count": null,
   "metadata": {},
   "outputs": [],
   "source": [
    "#crawler = ApiCrawler(credentials['instagram'], 'priyankachopra')\n",
    "#crawler.getFollowingsByApi()\n",
    "#print(crawler.followings)"
   ]
  },
  {
   "cell_type": "code",
   "execution_count": null,
   "metadata": {},
   "outputs": [],
   "source": []
  },
  {
   "cell_type": "code",
   "execution_count": 24,
   "metadata": {},
   "outputs": [
    {
     "name": "stdout",
     "output_type": "stream",
     "text": [
      "['kunal05_', 'hoodass', 'haileybieber', 'sharnaosborne', 'heyrolemodel', 'willowsmith', 'iisuperwomanii', 'dianemartel_', 'mileyineffable', 'carinbackoffphoto', 'thectct', 'patti_wilson', 'shahidkapoor', 'anushkasharma', 'aliaabhatt', 'vir_jadeja', 'dishapatani', 'dailyfactandscience', 'narendramodi', 'kapilsharma', 'khloekardashian', 'varundvn', 'manisha27.panda', 'asilyn_swan', 'madhuridixitnene', 'arianagrande', 'ranveersingh', 'kritisanon', 'deepikapadukone', 'priyankachopra', 'kimkardashian', 'shraddhakapoor', 'mileycyrus', 'daaknaam_trina', 'mayriadvibes', 'priyamaheswari08', 'traveller_pwn']\n"
     ]
    }
   ],
   "source": [
    "instagram = Instagram(credentials['instagram'], credentials['instagram']['user'])\n",
    "print(instagram.followings)"
   ]
  },
  {
   "cell_type": "code",
   "execution_count": null,
   "metadata": {},
   "outputs": [],
   "source": []
  },
  {
   "cell_type": "code",
   "execution_count": null,
   "metadata": {},
   "outputs": [],
   "source": [
    "driver = WebDriver().getDriver()\n",
    "driver.get(\"https://www.instagram.com/accounts/login/\")"
   ]
  },
  {
   "cell_type": "code",
   "execution_count": null,
   "metadata": {},
   "outputs": [],
   "source": [
    "wait = WebDriverWait(driver, config['webdriver']['wait']['time'])"
   ]
  },
  {
   "cell_type": "code",
   "execution_count": null,
   "metadata": {},
   "outputs": [],
   "source": [
    "logger.info(\"Logging in to instagram with user: \"+credentials['instagram']['user'])\n",
    "driver.get(config['instagram']['loginUrl'])\n",
    "\n",
    "wait.until(EC.presence_of_element_located((By.XPATH, \"//input[@name='username'][@type='text']\")))\n",
    "logger.debug(\"Presence of username field detected.\")\n",
    "\n",
    "userNameInput = driver.find_element_by_xpath(\"//input[@name='username'][@type='text']\")\n",
    "passwordInput = driver.find_element_by_xpath(\"//input[@name='password'][@type='password']\")\n",
    "userNameInput.send_keys(credentials['instagram']['user'])\n",
    "passwordInput.send_keys(credentials['instagram']['password'])\n",
    "driver.find_element_by_xpath(\"//button[@type='submit']\").click()"
   ]
  },
  {
   "cell_type": "code",
   "execution_count": null,
   "metadata": {},
   "outputs": [],
   "source": [
    "# finding user_id of logged in account\n",
    "allCookies = driver.get_cookies()\n",
    "currentUserId = -1\n",
    "for cookie in allCookies:\n",
    "    if(cookie['name']=='ds_user_id'):\n",
    "        currentUserId = cookie['value']\n",
    "        break\n",
    "if currentUserId==-1:\n",
    "    logger.error(\"Unable to retrieve ds_user_id cookie from cookies for logged in user {}\".format(credentials['instagram']['user']))\n",
    "logger.info(\"ds_user_id cookie of logged in user {}: {}\".format(credentials['instagram']['user'], currentUserId))"
   ]
  },
  {
   "cell_type": "code",
   "execution_count": null,
   "metadata": {},
   "outputs": [],
   "source": [
    "#getting id of an user\n",
    "handle = \"priyankachopra\"\n",
    "driver.get(\"view-source:https://www.instagram.com/{}/\".format(handle))"
   ]
  },
  {
   "cell_type": "code",
   "execution_count": null,
   "metadata": {
    "scrolled": true
   },
   "outputs": [],
   "source": [
    "x = re.search(\"\\\"has_requested_viewer\\\":(.)*\\\"id\\\":(.)*\\\"is_business_account\\\":.\", driver.find_element_by_xpath(\"//body\").text)\n",
    "print(x.group())\n",
    "print(re.split(\",\", x.group()))\n",
    "\n",
    "idOfTargetHandle = -1\n",
    "for keyValue in re.split(\",\", x.group()):\n",
    "    if \"id\" in keyValue:\n",
    "        idOfTargetHandle = keyValue[6:-1]\n",
    "if idOfTargetHandle==-1:\n",
    "    logger.error(\"Unable to obtain id of target handle: {} from html source\".format(handle))\n",
    "else:\n",
    "    logger.info(\"id of handle {} from html source: {}\".format(handle, idOfTargetHandle))"
   ]
  },
  {
   "cell_type": "code",
   "execution_count": null,
   "metadata": {},
   "outputs": [],
   "source": [
    "#API feature - get followings\n",
    "# constructing url\n",
    "queryVariables = {}\n",
    "queryVariables[\"id\"] = idOfTargetHandle\n",
    "queryVariables[\"include_reel\"] = config['instagram']['api']['include_reel']\n",
    "queryVariables[\"fetch_mutual\"] = config['instagram']['api']['fetch_mutual']\n",
    "queryVariables[\"first\"] = config['instagram']['api']['first']\n",
    "queryVariablesJson = json.dumps(queryVariables).replace(\" \", \"\")\n",
    "\n",
    "\n",
    "queryUrl = config['instagram']['api']['url']\n",
    "queryUrl += \"?query_hash=\"+config['instagram']['api']['query_hash']['followings']\n",
    "queryUrl += \"&variables=\"+queryVariablesJson\n",
    "#driver.get('https://www.instagram.com/graphql/query/?query_hash=56066f031e6239f35a904ac20c9f37d9&variables={\"id\":\"4019903081\",\"first\":50}')\n",
    "logger.info(\"QueryUrl: \"+queryUrl)\n",
    "driver.get(queryUrl)"
   ]
  },
  {
   "cell_type": "code",
   "execution_count": null,
   "metadata": {},
   "outputs": [],
   "source": [
    "data = json.loads(driver.find_element_by_xpath(\"//body\").text)\n",
    "followings = []\n",
    "followings.extend(data['data']['user']['edge_follow']['edges'])\n",
    "print(len(followings))\n",
    "#print(data['data']['user']['edge_followed_by'])"
   ]
  },
  {
   "cell_type": "code",
   "execution_count": null,
   "metadata": {},
   "outputs": [],
   "source": [
    "print(data['data']['user']['edge_follow']['page_info']['has_next_page'])\n",
    "\n",
    "while data['data']['user']['edge_follow']['page_info']['has_next_page']:\n",
    "    queryVariables[\"after\"] = data['data']['user']['edge_follow']['page_info']['end_cursor']\n",
    "    queryVariablesJson = json.dumps(queryVariables..replace(\" \", \"\"))\n",
    "    queryUrl = config['instagram']['api']['url']\n",
    "    queryUrl += \"?query_hash=\"+config['instagram']['api']['query_hash']['followings']\n",
    "    queryUrl += \"&variables=\"+queryVariablesJson\n",
    "    logger.info(\"QueryUrl: \"+queryUrl)\n",
    "    driver.get(queryUrl)\n",
    "    data = json.loads(driver.find_element_by_xpath(\"//body\").text)\n",
    "    followings.extend(data['data']['user']['edge_follow']['edges'])\n",
    "    print(len(followings))"
   ]
  },
  {
   "cell_type": "code",
   "execution_count": null,
   "metadata": {},
   "outputs": [],
   "source": [
    "print(queryVariablesJson.replace(\" \", \"\"))"
   ]
  },
  {
   "cell_type": "code",
   "execution_count": null,
   "metadata": {},
   "outputs": [],
   "source": [
    "driver.get(\"view-source:https://www.instagram.com/iamtluangpuii/\")"
   ]
  },
  {
   "cell_type": "code",
   "execution_count": null,
   "metadata": {},
   "outputs": [],
   "source": [
    "# Manual scrolling UI\n",
    "driver.get(\"https://instagram.com/\"+'instafollowdev')\n",
    "driver.get(\"https://instagram.com/\"+'instafollowdev')"
   ]
  },
  {
   "cell_type": "code",
   "execution_count": null,
   "metadata": {},
   "outputs": [],
   "source": [
    "followersButton = driver.find_element_by_xpath(\"//a[contains(@href, 'followers')]\")\n",
    "totalFollowers = int(followersButton.find_element_by_xpath(\"span\").get_attribute(\"title\").replace(',', ''))\n",
    "logger.info(\"Total followers : \"+str(totalFollowers))\n",
    "followersButton.click()"
   ]
  },
  {
   "cell_type": "code",
   "execution_count": null,
   "metadata": {},
   "outputs": [],
   "source": [
    "followersDialog = driver.find_element_by_xpath(\"//div[@role='dialog' and contains(., 'Followers')]\")"
   ]
  },
  {
   "cell_type": "code",
   "execution_count": null,
   "metadata": {},
   "outputs": [],
   "source": [
    "# Activating the popup dialog and then going to bottom of page\n",
    "# wait for some-time for names to appear\n",
    "try:\n",
    "    element = WebDriverWait(followersDialog, config['webdriver']['wait']['time']).until(\n",
    "        EC.presence_of_element_located((By.XPATH, \".//ul//li//div[text()]\"))\n",
    "    )\n",
    "except Exception as e:\n",
    "    logger.error(\"Error in locating name of any follower. This is done to send PAGE_DOWN down to scroll down. Error: \"+repr(e))\n",
    "finally:\n",
    "    print(\"done\")\n",
    "\n",
    "followersCount = 0\n",
    "previousCount = 0\n",
    "scrollWithoutChangeCount = 0\n",
    "scrollsWithoutChangeLimit = 10\n",
    "while True:\n",
    "    actions = ActionChains(driver)\n",
    "    actions.send_keys_to_element(followersDialog.find_elements_by_xpath(\".//ul//li//div[text()]\")[-1], Keys.PAGE_DOWN) #activating scroll\n",
    "    actions.perform()\n",
    "    time.sleep(1)\n",
    "    followersCount = len(followersDialog.find_elements_by_xpath(\".//ul//li\"))\n",
    "    if followersCount == previousCount:\n",
    "        scrollWithoutChangeCount += 1\n",
    "    else:\n",
    "        scrollWithoutChangeCount = 0\n",
    "    if scrollWithoutChangeCount == scrollsWithoutChangeLimit:\n",
    "        break\n",
    "    previousCount = followersCount\n",
    "    print(str(followersCount), end='\\r')"
   ]
  },
  {
   "cell_type": "code",
   "execution_count": null,
   "metadata": {},
   "outputs": [],
   "source": [
    "followers = followersDialog.find_elements_by_xpath(\".//ul//li//a[@title]\")\n",
    "for follower in followers:\n",
    "    print(follower.get_attribute('title'))"
   ]
  },
  {
   "cell_type": "code",
   "execution_count": null,
   "metadata": {},
   "outputs": [],
   "source": [
    "closeDialogButton = driver.find_element_by_xpath(\"//*[@aria-label='Close']\")\n",
    "closeDialogButton.click()"
   ]
  },
  {
   "cell_type": "code",
   "execution_count": null,
   "metadata": {},
   "outputs": [],
   "source": [
    "followingButton = driver.find_element_by_xpath(\"//a[contains(@href, 'following')]\")\n",
    "totalFollowing = int(followingButton.find_element_by_xpath(\"span\").text)\n",
    "logger.info(\"totalFollowing=\"+str(totalFollowing))\n",
    "followingButton.click()"
   ]
  },
  {
   "cell_type": "code",
   "execution_count": null,
   "metadata": {},
   "outputs": [],
   "source": [
    "followingDialog = driver.find_element_by_xpath(\"//div[@role='dialog' and contains(., 'Following')]\")"
   ]
  },
  {
   "cell_type": "code",
   "execution_count": null,
   "metadata": {},
   "outputs": [],
   "source": [
    "# wait for some-time for names to appear\n",
    "try:\n",
    "    firstPersonHavingName = WebDriverWait(followingDialog, config['webdriver']['wait']['time']).until(\n",
    "        EC.presence_of_element_located((By.XPATH, \".//ul//li//div[text()]\"))\n",
    "    )\n",
    "except Exception as e:\n",
    "    logger.error(\"Error in locating name of any follower. This is done to send PAGE_DOWN down to scroll down. Error: \"+repr(e))\n",
    "finally:\n",
    "    print(\"done\")\n",
    "\n",
    "followingCount = 0\n",
    "while(followingCount < totalFollowing):\n",
    "    actions = ActionChains(driver)\n",
    "    actions.send_keys_to_element(followingDialog.find_elements_by_xpath(\".//ul//li//div[text()]\")[-1], Keys.PAGE_DOWN) #activating scroll\n",
    "    actions.perform()\n",
    "    followingCount = len(followingDialog.find_elements_by_xpath(\".//ul//li\"))\n",
    "    print(str(followingCount))\n",
    "print(str(followingCount))\n"
   ]
  },
  {
   "cell_type": "code",
   "execution_count": null,
   "metadata": {},
   "outputs": [],
   "source": []
  }
 ],
 "metadata": {
  "kernelspec": {
   "display_name": ".venv",
   "language": "python",
   "name": ".venv"
  },
  "language_info": {
   "codemirror_mode": {
    "name": "ipython",
    "version": 3
   },
   "file_extension": ".py",
   "mimetype": "text/x-python",
   "name": "python",
   "nbconvert_exporter": "python",
   "pygments_lexer": "ipython3",
   "version": "3.6.5"
  }
 },
 "nbformat": 4,
 "nbformat_minor": 2
}
