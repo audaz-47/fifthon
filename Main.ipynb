{
 "cells": [
  {
   "cell_type": "code",
   "execution_count": null,
   "metadata": {},
   "outputs": [],
   "source": [
    "from selenium import webdriver\n",
    "from selenium.webdriver.common.action_chains import ActionChains\n",
    "from selenium.webdriver.common.by import By\n",
    "from selenium.webdriver.common.keys import Keys\n",
    "from selenium.webdriver.support import expected_conditions as EC\n",
    "from selenium.webdriver.support.ui import WebDriverWait\n",
    "from src.common.WebDriver import WebDriver\n",
    "from src.common.utils import *\n",
    "import time\n",
    "from src.instagram.Instagram import Instagram\n",
    "\n",
    "config = loadConfiguration('config/config.yaml')\n",
    "credentials = loadCredentials('config/credentials.yaml')\n",
    "logger = getLogger(__name__)\n",
    "logger.debug(credentials)"
   ]
  },
  {
   "cell_type": "code",
   "execution_count": null,
   "metadata": {},
   "outputs": [],
   "source": [
    "#driver = WebDriver().getDriver()\n",
    "#crawler = Crawler(credentials['instagram'], credentials['instagram']['user'])\n",
    "#crawler.login()\n",
    "#crawler.getFollowers()\n",
    "#print(crawler.followers)\n",
    "#crawler.getFollowings()\n",
    "#print(crawler.followings)"
   ]
  },
  {
   "cell_type": "code",
   "execution_count": null,
   "metadata": {},
   "outputs": [],
   "source": []
  },
  {
   "cell_type": "code",
   "execution_count": null,
   "metadata": {},
   "outputs": [],
   "source": [
    "instagram = Instagram(credentials['instagram'], credentials['instagram']['user'])"
   ]
  },
  {
   "cell_type": "code",
   "execution_count": null,
   "metadata": {},
   "outputs": [],
   "source": [
    "#print(instagram.followings)"
   ]
  },
  {
   "cell_type": "code",
   "execution_count": null,
   "metadata": {},
   "outputs": [],
   "source": [
    "driver = webdriver.Chrome('drivers/chromedriver')\n",
    "driver.get(\"https://www.instagram.com/accounts/login/\")"
   ]
  },
  {
   "cell_type": "code",
   "execution_count": null,
   "metadata": {},
   "outputs": [],
   "source": [
    "wait = WebDriverWait(driver, config['webdriver']['wait']['time'])"
   ]
  },
  {
   "cell_type": "code",
   "execution_count": null,
   "metadata": {},
   "outputs": [],
   "source": [
    "logger.info(\"Logging in to instagram with user: \"+credentials['instagram']['user'])\n",
    "driver.get(config['instagram']['loginUrl'])\n",
    "\n",
    "wait.until(EC.presence_of_element_located((By.XPATH, \"//input[@name='username'][@type='text']\")))\n",
    "logger.debug(\"Presence of username field detected.\")\n",
    "\n",
    "userNameInput = driver.find_element_by_xpath(\"//input[@name='username'][@type='text']\")\n",
    "passwordInput = driver.find_element_by_xpath(\"//input[@name='password'][@type='password']\")\n",
    "userNameInput.send_keys(credentials['instagram']['user'])\n",
    "passwordInput.send_keys(credentials['instagram']['password'])\n",
    "driver.find_element_by_xpath(\"//button[@type='submit']\").click()"
   ]
  },
  {
   "cell_type": "code",
   "execution_count": null,
   "metadata": {},
   "outputs": [],
   "source": [
    "driver.get(\"https://instagram.com/\"+'instafollowdev')\n",
    "driver.get(\"https://instagram.com/\"+'instafollowdev')"
   ]
  },
  {
   "cell_type": "code",
   "execution_count": null,
   "metadata": {},
   "outputs": [],
   "source": [
    "followersButton = driver.find_element_by_xpath(\"//a[contains(@href, 'followers')]\")\n",
    "totalFollowers = int(followersButton.find_element_by_xpath(\"span\").get_attribute(\"title\").replace(',', ''))\n",
    "logger.info(\"Total followers : \"+str(totalFollowers))\n",
    "followersButton.click()"
   ]
  },
  {
   "cell_type": "code",
   "execution_count": null,
   "metadata": {},
   "outputs": [],
   "source": [
    "followersDialog = driver.find_element_by_xpath(\"//div[@role='dialog' and contains(., 'Followers')]\")"
   ]
  },
  {
   "cell_type": "code",
   "execution_count": null,
   "metadata": {},
   "outputs": [],
   "source": [
    "# Activating the popup dialog and then going to bottom of page\n",
    "# wait for some-time for names to appear\n",
    "try:\n",
    "    element = WebDriverWait(followersDialog, config['webdriver']['wait']['time']).until(\n",
    "        EC.presence_of_element_located((By.XPATH, \".//ul//li//div[text()]\"))\n",
    "    )\n",
    "except Exception as e:\n",
    "    logger.error(\"Error in locating name of any follower. This is done to send PAGE_DOWN down to scroll down. Error: \"+repr(e))\n",
    "finally:\n",
    "    print(\"done\")\n",
    "\n",
    "followersCount = 0\n",
    "previousCount = 0\n",
    "scrollWithoutChangeCount = 0\n",
    "scrollsWithoutChangeLimit = 10\n",
    "while True:\n",
    "    actions = ActionChains(driver)\n",
    "    actions.send_keys_to_element(followersDialog.find_elements_by_xpath(\".//ul//li//div[text()]\")[-1], Keys.PAGE_DOWN) #activating scroll\n",
    "    actions.perform()\n",
    "    time.sleep(1)\n",
    "    followersCount = len(followersDialog.find_elements_by_xpath(\".//ul//li\"))\n",
    "    if followersCount == previousCount:\n",
    "        scrollWithoutChangeCount += 1\n",
    "    else:\n",
    "        scrollWithoutChangeCount = 0\n",
    "    if scrollWithoutChangeCount == scrollsWithoutChangeLimit:\n",
    "        break\n",
    "    previousCount = followersCount\n",
    "    print(str(followersCount), end='\\r')"
   ]
  },
  {
   "cell_type": "code",
   "execution_count": null,
   "metadata": {},
   "outputs": [],
   "source": [
    "followers = followersDialog.find_elements_by_xpath(\".//ul//li//a[@title]\")\n",
    "for follower in followers:\n",
    "    print(follower.get_attribute('title'))"
   ]
  },
  {
   "cell_type": "code",
   "execution_count": null,
   "metadata": {},
   "outputs": [],
   "source": [
    "closeDialogButton = driver.find_element_by_xpath(\"//*[@aria-label='Close']\")\n",
    "closeDialogButton.click()"
   ]
  },
  {
   "cell_type": "code",
   "execution_count": null,
   "metadata": {},
   "outputs": [],
   "source": [
    "followingButton = driver.find_element_by_xpath(\"//a[contains(@href, 'following')]\")\n",
    "totalFollowing = int(followingButton.find_element_by_xpath(\"span\").text)\n",
    "logger.info(\"totalFollowing=\"+str(totalFollowing))\n",
    "followingButton.click()"
   ]
  },
  {
   "cell_type": "code",
   "execution_count": null,
   "metadata": {},
   "outputs": [],
   "source": [
    "followingDialog = driver.find_element_by_xpath(\"//div[@role='dialog' and contains(., 'Following')]\")"
   ]
  },
  {
   "cell_type": "code",
   "execution_count": null,
   "metadata": {},
   "outputs": [],
   "source": [
    "# wait for some-time for names to appear\n",
    "try:\n",
    "    firstPersonHavingName = WebDriverWait(followingDialog, config['webdriver']['wait']['time']).until(\n",
    "        EC.presence_of_element_located((By.XPATH, \".//ul//li//div[text()]\"))\n",
    "    )\n",
    "except Exception as e:\n",
    "    logger.error(\"Error in locating name of any follower. This is done to send PAGE_DOWN down to scroll down. Error: \"+repr(e))\n",
    "finally:\n",
    "    print(\"done\")\n",
    "\n",
    "followingCount = 0\n",
    "while(followingCount < totalFollowing):\n",
    "    actions = ActionChains(driver)\n",
    "    actions.send_keys_to_element(followingDialog.find_elements_by_xpath(\".//ul//li//div[text()]\")[-1], Keys.PAGE_DOWN) #activating scroll\n",
    "    actions.perform()\n",
    "    followingCount = len(followingDialog.find_elements_by_xpath(\".//ul//li\"))\n",
    "    print(str(followingCount))\n",
    "print(str(followingCount))\n"
   ]
  },
  {
   "cell_type": "code",
   "execution_count": null,
   "metadata": {},
   "outputs": [],
   "source": []
  },
  {
   "cell_type": "code",
   "execution_count": null,
   "metadata": {},
   "outputs": [],
   "source": []
  },
  {
   "cell_type": "code",
   "execution_count": null,
   "metadata": {},
   "outputs": [],
   "source": []
  },
  {
   "cell_type": "code",
   "execution_count": null,
   "metadata": {},
   "outputs": [],
   "source": []
  }
 ],
 "metadata": {
  "kernelspec": {
   "display_name": "Python 3",
   "language": "python",
   "name": "python3"
  },
  "language_info": {
   "codemirror_mode": {
    "name": "ipython",
    "version": 3
   },
   "file_extension": ".py",
   "mimetype": "text/x-python",
   "name": "python",
   "nbconvert_exporter": "python",
   "pygments_lexer": "ipython3",
   "version": "3.7.2"
  }
 },
 "nbformat": 4,
 "nbformat_minor": 2
}
