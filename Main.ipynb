{
 "cells": [
  {
   "cell_type": "code",
   "execution_count": 1,
   "metadata": {},
   "outputs": [
    {
     "name": "stdout",
     "output_type": "stream",
     "text": [
      "21Mar2019 01:19:57 - [__main__] [DEBUG] - {'instagram': {'user': 'instafollowdev', 'password': 'password@123'}}\n"
     ]
    }
   ],
   "source": [
    "from selenium import webdriver\n",
    "from selenium.webdriver.common.action_chains import ActionChains\n",
    "from selenium.webdriver.common.keys import Keys\n",
    "from src.common.utils import *\n",
    "\n",
    "config = loadConfiguration('config/config.yaml')\n",
    "credentials = loadCredentials('config/credentials.yaml')\n",
    "logger = getLogger(__name__)\n",
    "logger.debug(credentials)"
   ]
  },
  {
   "cell_type": "code",
   "execution_count": 2,
   "metadata": {},
   "outputs": [],
   "source": [
    "driver = webdriver.Chrome('drivers/chromedriver')\n",
    "driver.get(\"https://www.instagram.com/accounts/login/\")\n"
   ]
  },
  {
   "cell_type": "code",
   "execution_count": 3,
   "metadata": {},
   "outputs": [],
   "source": [
    "userNameInput = driver.find_element_by_xpath(\"//input[@name='username'][@type='text']\")\n",
    "passwordInput = driver.find_element_by_xpath(\"//input[@name='password'][@type='password']\")\n",
    "userNameInput.send_keys(credentials['instagram']['user'])\n",
    "passwordInput.send_keys(credentials['instagram']['password'])"
   ]
  },
  {
   "cell_type": "code",
   "execution_count": 4,
   "metadata": {},
   "outputs": [
    {
     "name": "stdout",
     "output_type": "stream",
     "text": [
      "21Mar2019 01:20:10 - [__main__] [INFO] - logged in: instafollowdev\n"
     ]
    }
   ],
   "source": [
    "submitButton = driver.find_element_by_xpath(\"//button[@type='submit']\")\n",
    "submitButton.click()\n",
    "# If not change in address and //*[@role='alert'] -> wrong password\n",
    "logger.info(\"logged in: \"+credentials['instagram']['user'])"
   ]
  },
  {
   "cell_type": "code",
   "execution_count": 16,
   "metadata": {},
   "outputs": [],
   "source": [
    "driver.get(\"https://instagram.com/\"+credentials['instagram']['user'])"
   ]
  },
  {
   "cell_type": "code",
   "execution_count": 17,
   "metadata": {},
   "outputs": [
    {
     "name": "stdout",
     "output_type": "stream",
     "text": [
      "21Mar2019 01:33:21 - [__main__] [INFO] - numberOfFollowers=6\n"
     ]
    }
   ],
   "source": [
    "followersButton = driver.find_element_by_xpath(\"//a[contains(@href, 'followers')]\")\n",
    "numberOfFollowers = followersButton.find_element_by_xpath(\"span\")\n",
    "logger.info(\"numberOfFollowers=\"+numberOfFollowers.text)\n",
    "followersButton.click()"
   ]
  },
  {
   "cell_type": "code",
   "execution_count": 18,
   "metadata": {},
   "outputs": [],
   "source": [
    "followersDialog = driver.find_elements_by_xpath(\"//div[@role='dialog'][contains(., 'Followers')]\")"
   ]
  },
  {
   "cell_type": "code",
   "execution_count": 19,
   "metadata": {},
   "outputs": [
    {
     "name": "stdout",
     "output_type": "stream",
     "text": [
      "محمد مازن\n"
     ]
    }
   ],
   "source": [
    "# Activating the popup dialog and then going to bottom of page\n",
    "print (driver.find_element_by_xpath(\"//div[@role='dialog']//ul//li//div[text()]\").text)\n",
    "actions = ActionChains(driver)\n",
    "actions.send_keys_to_element(driver.find_element_by_xpath(\"//div[@role='dialog']//ul//li//div[text()]\"), Keys.PAGE_UP)\n",
    "actions.send_keys(Keys.PAGE_DOWN)\n",
    "actions.send_keys(Keys.PAGE_DOWN)\n",
    "actions.send_keys(Keys.PAGE_DOWN)\n",
    "actions.send_keys(Keys.PAGE_DOWN)\n",
    "actions.send_keys(Keys.PAGE_DOWN)\n",
    "actions.send_keys(Keys.PAGE_DOWN)\n",
    "actions.send_keys(Keys.PAGE_DOWN)\n",
    "actions.send_keys(Keys.PAGE_DOWN)\n",
    "actions.send_keys(Keys.PAGE_DOWN)\n",
    "actions.send_keys(Keys.PAGE_DOWN)\n",
    "actions.send_keys(Keys.PAGE_DOWN)\n",
    "actions.send_keys(Keys.PAGE_DOWN)\n",
    "actions.send_keys(Keys.PAGE_DOWN)\n",
    "actions.send_keys(Keys.PAGE_DOWN)\n",
    "actions.send_keys(Keys.PAGE_DOWN)\n",
    "actions.send_keys(Keys.PAGE_DOWN)\n",
    "actions.send_keys(Keys.PAGE_DOWN)\n",
    "actions.send_keys(Keys.PAGE_DOWN)\n",
    "actions.send_keys(Keys.PAGE_DOWN)\n",
    "actions.send_keys(Keys.PAGE_DOWN)\n",
    "actions.send_keys(Keys.PAGE_DOWN)\n",
    "actions.send_keys(Keys.PAGE_DOWN)\n",
    "actions.send_keys(Keys.PAGE_DOWN)\n",
    "actions.send_keys(Keys.PAGE_DOWN)\n",
    "actions.perform()"
   ]
  },
  {
   "cell_type": "code",
   "execution_count": null,
   "metadata": {},
   "outputs": [],
   "source": [
    "closeDialogButton = driver.find_element_by_xpath(\"//*[@aria-label='Close']\")\n",
    "closeDialogButton.click()"
   ]
  },
  {
   "cell_type": "code",
   "execution_count": null,
   "metadata": {},
   "outputs": [],
   "source": [
    "followingButton = driver.find_element_by_xpath(\"//a[contains(@href, 'following')]\")\n",
    "numberOfFollowing = followingButton.find_element_by_xpath(\"span\")\n",
    "logger.info(\"numberOfFollowing=\"+numberOfFollowing.text)\n",
    "followingButton.click()"
   ]
  },
  {
   "cell_type": "code",
   "execution_count": null,
   "metadata": {},
   "outputs": [],
   "source": [
    "ul = driver.find_element_by_xpath(\"//div[@role='dialog']//ul\")"
   ]
  },
  {
   "cell_type": "code",
   "execution_count": null,
   "metadata": {},
   "outputs": [],
   "source": [
    "actions = ActionChains(driver)\n",
    "actions.send_keys_to_element(driver.find_element_by_xpath(\"//div[@role='dialog']//ul//li//div[text()]\"), Keys.PAGE_UP)\n",
    "actions.send_keys(Keys.PAGE_DOWN)\n",
    "actions.send_keys(Keys.PAGE_DOWN)\n",
    "actions.send_keys(Keys.PAGE_DOWN)\n",
    "actions.send_keys(Keys.PAGE_DOWN)\n",
    "actions.send_keys(Keys.PAGE_DOWN)\n",
    "actions.send_keys(Keys.PAGE_DOWN)\n",
    "actions.send_keys(Keys.PAGE_DOWN)\n",
    "actions.send_keys(Keys.PAGE_DOWN)\n",
    "actions.send_keys(Keys.PAGE_DOWN)\n",
    "actions.send_keys(Keys.PAGE_DOWN)\n",
    "actions.send_keys(Keys.PAGE_DOWN)\n",
    "actions.send_keys(Keys.PAGE_DOWN)\n",
    "actions.send_keys(Keys.PAGE_DOWN)\n",
    "actions.send_keys(Keys.PAGE_DOWN)\n",
    "actions.send_keys(Keys.PAGE_DOWN)\n",
    "actions.send_keys(Keys.PAGE_DOWN)\n",
    "actions.send_keys(Keys.PAGE_DOWN)\n",
    "actions.send_keys(Keys.PAGE_DOWN)\n",
    "actions.send_keys(Keys.PAGE_DOWN)\n",
    "actions.send_keys(Keys.PAGE_DOWN)\n",
    "actions.send_keys(Keys.PAGE_DOWN)\n",
    "actions.send_keys(Keys.PAGE_DOWN)\n",
    "actions.send_keys(Keys.PAGE_DOWN)\n",
    "actions.send_keys(Keys.PAGE_DOWN)\n",
    "actions.perform()"
   ]
  },
  {
   "cell_type": "code",
   "execution_count": null,
   "metadata": {},
   "outputs": [],
   "source": []
  },
  {
   "cell_type": "code",
   "execution_count": null,
   "metadata": {},
   "outputs": [],
   "source": []
  },
  {
   "cell_type": "code",
   "execution_count": null,
   "metadata": {},
   "outputs": [],
   "source": []
  },
  {
   "cell_type": "code",
   "execution_count": null,
   "metadata": {},
   "outputs": [],
   "source": []
  }
 ],
 "metadata": {
  "kernelspec": {
   "display_name": "Python 3",
   "language": "python",
   "name": "python3"
  },
  "language_info": {
   "codemirror_mode": {
    "name": "ipython",
    "version": 3
   },
   "file_extension": ".py",
   "mimetype": "text/x-python",
   "name": "python",
   "nbconvert_exporter": "python",
   "pygments_lexer": "ipython3",
   "version": "3.7.2"
  }
 },
 "nbformat": 4,
 "nbformat_minor": 2
}
